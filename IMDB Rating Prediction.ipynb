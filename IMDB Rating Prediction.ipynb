{
  "cells": [
    {
      "metadata": {
        "_uuid": "84c6c04e3912de8350a72164be66e5faced67d83"
      },
      "cell_type": "markdown",
      "source": "# IMDB Rating Prediction Model"
    },
    {
      "metadata": {
        "_uuid": "4f29db690cbf3b2d9af1dd477e4d3fd82a94e7f8"
      },
      "cell_type": "markdown",
      "source": "## 1- Packages\n\nLet's first import all the packages that I'll be using during this project.\n\n* numpy is the main package for scientific computing with Python.\n* pandas is a library for data manipulation and analysis.\n* LabelEncoder is used to encode the object datatypes.\n* Linear_model contains regression models.\n* train_test_split is used to split our training data into training, dev datasets."
    },
    {
      "metadata": {
        "_uuid": "8f2839f25d086af736a60e9eeb907d3b93b6e0e5",
        "_cell_guid": "b1076dfc-b9ad-4769-8c92-a6c4dae69d19",
        "trusted": true
      },
      "cell_type": "code",
      "source": "import numpy as np, pandas as pd\nfrom sklearn.preprocessing import LabelEncoder\nfrom sklearn.model_selection import train_test_split\nfrom sklearn import linear_model",
      "execution_count": 142,
      "outputs": []
    },
    {
      "metadata": {
        "_uuid": "fd3b0dc8ed88fdb14e5e9eb2ccd085f09fb9d3fd"
      },
      "cell_type": "markdown",
      "source": "## 2 - Dataset\n\n* Here I am using the IMDB's top 250 movies' data which I scrapped from [here](https://imdb.com/chart/top?ref_=nv_mv_250)"
    },
    {
      "metadata": {
        "_cell_guid": "79c7e3d0-c299-4dcb-8224-4455121ee9b0",
        "_uuid": "d629ff2d2480ee46fbb7e2d37f6b5fab8052498a",
        "trusted": true
      },
      "cell_type": "code",
      "source": "data = pd.read_csv('../input/imdb.csv')\nprint('Shape of dataset: {}'.format(data.shape))",
      "execution_count": 121,
      "outputs": [
        {
          "output_type": "stream",
          "text": "Shape of dataset: (250, 28)\n",
          "name": "stdout"
        }
      ]
    },
    {
      "metadata": {
        "_uuid": "a2363b8587a2dce006cc9f8f982ee4122691c155"
      },
      "cell_type": "markdown",
      "source": "## 3 - Data Pre-processing\n\nThe data we have isn't suitable for training process yet. So we have to pre-process this data to get optimal results."
    },
    {
      "metadata": {
        "_uuid": "c7add6b683c0bf30f1878cf34c7e97c0248b0913"
      },
      "cell_type": "markdown",
      "source": "### First let's see what this data is made of."
    },
    {
      "metadata": {
        "trusted": true,
        "scrolled": false,
        "_uuid": "b5241a29e12d5f59480f1cc372c4a3d468f70696"
      },
      "cell_type": "code",
      "source": "data.head()",
      "execution_count": 122,
      "outputs": [
        {
          "output_type": "execute_result",
          "execution_count": 122,
          "data": {
            "text/plain": "   Unnamed: 0            ...                     Production company\n0           0            ...              Castle Rock Entertainment\n1           1            ...                     Paramount Pictures\n2           2            ...                     Paramount Pictures\n3           3            ...                           Warner Bros.\n4           4            ...                 Orion-Nova Productions\n\n[5 rows x 28 columns]",
            "text/html": "<div>\n<style scoped>\n    .dataframe tbody tr th:only-of-type {\n        vertical-align: middle;\n    }\n\n    .dataframe tbody tr th {\n        vertical-align: top;\n    }\n\n    .dataframe thead th {\n        text-align: right;\n    }\n</style>\n<table border=\"1\" class=\"dataframe\">\n  <thead>\n    <tr style=\"text-align: right;\">\n      <th></th>\n      <th>Unnamed: 0</th>\n      <th>Name of the movie</th>\n      <th>Link</th>\n      <th>Year released</th>\n      <th>IMDB rating</th>\n      <th>Number of reviewers</th>\n      <th>Censor board rating</th>\n      <th>Length of the movie</th>\n      <th>Genre 1</th>\n      <th>Genre 2</th>\n      <th>Genre 3</th>\n      <th>Genre 4</th>\n      <th>Release date</th>\n      <th>story summary</th>\n      <th>Director Name</th>\n      <th>Writer 1</th>\n      <th>Writer 2</th>\n      <th>Writer 3</th>\n      <th>Star 1</th>\n      <th>Star 2</th>\n      <th>Star 3</th>\n      <th>Star 4</th>\n      <th>Star 5</th>\n      <th>Plot Keywords list</th>\n      <th>Budget</th>\n      <th>Gross USA</th>\n      <th>Cumulative worlwide Gross</th>\n      <th>Production company</th>\n    </tr>\n  </thead>\n  <tbody>\n    <tr>\n      <th>0</th>\n      <td>0</td>\n      <td>The Shawshank Redemption</td>\n      <td>https://www.imdb.com/title/tt0111161/?pf_rd_m=...</td>\n      <td>1994</td>\n      <td>9.3</td>\n      <td>2040670</td>\n      <td>A</td>\n      <td>2h22min</td>\n      <td>Drama</td>\n      <td>NaN</td>\n      <td>NaN</td>\n      <td>NaN</td>\n      <td>14 October 1994 (USA)</td>\n      <td>Two imprisoned men bond over a number of years...</td>\n      <td>Frank Darabont</td>\n      <td>Stephen King</td>\n      <td>Frank Darabont</td>\n      <td>NaN</td>\n      <td>Tim Robbins</td>\n      <td>Morgan Freeman</td>\n      <td>Bob Gunton</td>\n      <td>NaN</td>\n      <td>NaN</td>\n      <td>wrongful imprisonment | escape from prison | b...</td>\n      <td>25000000.0</td>\n      <td>28341469.0</td>\n      <td>58500000.0</td>\n      <td>Castle Rock Entertainment</td>\n    </tr>\n    <tr>\n      <th>1</th>\n      <td>1</td>\n      <td>The Godfather</td>\n      <td>https://www.imdb.com/title/tt0068646/?pf_rd_m=...</td>\n      <td>1972</td>\n      <td>9.2</td>\n      <td>1399614</td>\n      <td>A</td>\n      <td>2h55min</td>\n      <td>Crime</td>\n      <td>Drama</td>\n      <td>NaN</td>\n      <td>NaN</td>\n      <td>24 March 1972 (USA)</td>\n      <td>The aging patriarch of an organized crime dyna...</td>\n      <td>Francis Ford Coppola</td>\n      <td>Mario Puzo</td>\n      <td>Francis Ford Coppola</td>\n      <td>NaN</td>\n      <td>Marlon Brando</td>\n      <td>Al Pacino</td>\n      <td>James Caan</td>\n      <td>NaN</td>\n      <td>NaN</td>\n      <td>mafia | crime family | patriarch | organized c...</td>\n      <td>6000000.0</td>\n      <td>13496641.0</td>\n      <td>245066411.0</td>\n      <td>Paramount Pictures</td>\n    </tr>\n    <tr>\n      <th>2</th>\n      <td>2</td>\n      <td>The Godfather: Part II</td>\n      <td>https://www.imdb.com/title/tt0071562/?pf_rd_m=...</td>\n      <td>1974</td>\n      <td>9.0</td>\n      <td>970207</td>\n      <td>R</td>\n      <td>3h22min</td>\n      <td>Crime</td>\n      <td>Drama</td>\n      <td>NaN</td>\n      <td>NaN</td>\n      <td>20 December 1974 (USA)</td>\n      <td>The early life and career of Vito Corleone in ...</td>\n      <td>Francis Ford Coppola</td>\n      <td>Francis Ford Coppola</td>\n      <td>Mario Puzo</td>\n      <td>NaN</td>\n      <td>Al Pacino</td>\n      <td>Robert De Niro</td>\n      <td>Robert Duvall</td>\n      <td>NaN</td>\n      <td>NaN</td>\n      <td>revenge | corrupt politician | bloody body of ...</td>\n      <td>13000000.0</td>\n      <td>57300000.0</td>\n      <td>NaN</td>\n      <td>Paramount Pictures</td>\n    </tr>\n    <tr>\n      <th>3</th>\n      <td>3</td>\n      <td>The Dark Knight</td>\n      <td>https://www.imdb.com/title/tt0468569/?pf_rd_m=...</td>\n      <td>2008</td>\n      <td>9.0</td>\n      <td>2008344</td>\n      <td>UA</td>\n      <td>2h32min</td>\n      <td>Action</td>\n      <td>Crime</td>\n      <td>Drama</td>\n      <td>NaN</td>\n      <td>18 July 2008 (India)</td>\n      <td>When the menace known as the Joker emerges fro...</td>\n      <td>Christopher Nolan</td>\n      <td>Jonathan Nolan</td>\n      <td>Christopher Nolan</td>\n      <td>NaN</td>\n      <td>Christian Bale</td>\n      <td>Heath Ledger</td>\n      <td>Aaron Eckhart</td>\n      <td>NaN</td>\n      <td>NaN</td>\n      <td>dc comics | moral dilemma | psychopath | clown...</td>\n      <td>185000000.0</td>\n      <td>53485844.0</td>\n      <td>100455844.0</td>\n      <td>Warner Bros.</td>\n    </tr>\n    <tr>\n      <th>4</th>\n      <td>4</td>\n      <td>12 Angry Men</td>\n      <td>https://www.imdb.com/title/tt0050083/?pf_rd_m=...</td>\n      <td>1957</td>\n      <td>8.9</td>\n      <td>574484</td>\n      <td>Not Rated</td>\n      <td>1h36min</td>\n      <td>Drama</td>\n      <td>NaN</td>\n      <td>NaN</td>\n      <td>NaN</td>\n      <td>10 April 1957 (USA)</td>\n      <td>A jury holdout attempts to prevent a miscarria...</td>\n      <td>Sidney Lumet</td>\n      <td>Reginald Rose</td>\n      <td>Reginald Rose</td>\n      <td>NaN</td>\n      <td>Henry Fonda</td>\n      <td>Lee J. Cobb</td>\n      <td>Martin Balsam</td>\n      <td>NaN</td>\n      <td>NaN</td>\n      <td>jury | dialogue driven | courtroom | trial | p...</td>\n      <td>350000.0</td>\n      <td>4360000.0</td>\n      <td>NaN</td>\n      <td>Orion-Nova Productions</td>\n    </tr>\n  </tbody>\n</table>\n</div>"
          },
          "metadata": {}
        }
      ]
    },
    {
      "metadata": {
        "_uuid": "c02c6e2667af786b7163f1491ff0a0aa9fb5d1ec"
      },
      "cell_type": "markdown",
      "source": "### I believe that length of the movie can be a deciding factor for overall rating so here I transformed this column so that I can use it properly in my model."
    },
    {
      "metadata": {
        "trusted": true,
        "scrolled": true,
        "_uuid": "420737cd569d9b2526a8f83c23e78242216a13d8"
      },
      "cell_type": "code",
      "source": "for i in range(data.shape[0]):\n    h = 0\n    m = 0\n    if 'h' in data['Length of the movie'][i]:\n        h = int(data['Length of the movie'][i][0])\n        if 'min' in data['Length of the movie'][i]:\n            if len(data['Length of the movie'][i]) is 7:\n                m = int(data['Length of the movie'][i][2:4])\n            else:\n                m = int(data['Length of the movie'][i][2:3])\n    else:\n        m = int(data['Length of the movie'][i][:2])\n    data['Length of the movie'][i] = float(h * 60 + m)",
      "execution_count": 123,
      "outputs": [
        {
          "output_type": "stream",
          "text": "/opt/conda/lib/python3.6/site-packages/ipykernel_launcher.py:13: SettingWithCopyWarning: \nA value is trying to be set on a copy of a slice from a DataFrame\n\nSee the caveats in the documentation: http://pandas.pydata.org/pandas-docs/stable/indexing.html#indexing-view-versus-copy\n  del sys.path[0]\n",
          "name": "stderr"
        }
      ]
    },
    {
      "metadata": {
        "_uuid": "410fb4c83c15566c1ad930a1489ef3129cedb0a6"
      },
      "cell_type": "markdown",
      "source": "### Our dataset isn't all numbers so we have to see how many unique values does this dataset have so that we can check whether they are even affecting the rating or not."
    },
    {
      "metadata": {
        "trusted": true,
        "_uuid": "32f3a2dbf81d0b61f45484f8b2e06e0f1c15c7fe"
      },
      "cell_type": "code",
      "source": "data.select_dtypes('object').apply(pd.Series.nunique, axis = 0)",
      "execution_count": 124,
      "outputs": [
        {
          "output_type": "execute_result",
          "execution_count": 124,
          "data": {
            "text/plain": "Name of the movie      250\nLink                   250\nCensor board rating     11\nLength of the movie    106\nGenre 1                 12\nGenre 2                 20\nGenre 3                 17\nRelease date           246\nstory summary          250\nDirector Name          152\nWriter 1               198\nWriter 2               171\nStar 1                 183\nStar 2                 230\nStar 3                 240\nPlot Keywords list     249\nProduction company     154\ndtype: int64"
          },
          "metadata": {}
        }
      ]
    },
    {
      "metadata": {
        "_uuid": "f9e39829c8e51e1254ddca9bbd83facbf752d61b"
      },
      "cell_type": "markdown",
      "source": "### From the above output we can see that features like release date, story summary, star2, star3, plot keyworks are almost unique for each movie. So keeping these features will not help our model at all so we are gonna get rid of them now."
    },
    {
      "metadata": {
        "trusted": true,
        "_uuid": "596eced821c678b1f2947110710ad52d3554b408"
      },
      "cell_type": "code",
      "source": "data = data.drop(['Unnamed: 0', 'Name of the movie', 'Link', 'Genre 4', 'Release date', 'story summary', 'Writer 3', 'Star 2', 'Star 3', 'Star 4', 'Star 5', 'Plot Keywords list'], axis=1)\ndata.columns.values",
      "execution_count": 125,
      "outputs": [
        {
          "output_type": "execute_result",
          "execution_count": 125,
          "data": {
            "text/plain": "array(['Year released', 'IMDB rating', 'Number of reviewers',\n       'Censor board rating', 'Length of the movie', 'Genre 1', 'Genre 2',\n       'Genre 3', 'Director Name', 'Writer 1', 'Writer 2', 'Star 1',\n       'Budget', 'Gross USA', 'Cumulative worlwide Gross',\n       'Production company'], dtype=object)"
          },
          "metadata": {}
        }
      ]
    },
    {
      "metadata": {
        "_uuid": "5c260a7902f6ed78f5137d563c8f7a3104b70feb"
      },
      "cell_type": "markdown",
      "source": "### We can't use values like director name for our predictions so we are gonna use label encoding to give our data a proper structure."
    },
    {
      "metadata": {
        "trusted": true,
        "_uuid": "bbaeb39ae047b796b2d6b66df8eeb631c09938b5"
      },
      "cell_type": "code",
      "source": "le = LabelEncoder()\nle_count = 0\nlom = data['Length of the movie']\ndata = data.drop(['Length of the movie'], axis=1)\nfor col in data:\n    if data[col].dtype == 'object':\n        if len(list(data[col].unique())) <= 2:\n            le.fit(data[col])\n            data[col] = le.transform(data[col])\n            le_count += 1\n\ndata = pd.get_dummies(data)\ndata['Length of the movie'] = lom\nprint('Shape of dataset: {}'.format(data.shape))",
      "execution_count": 126,
      "outputs": [
        {
          "output_type": "stream",
          "text": "Shape of dataset: (250, 925)\n",
          "name": "stdout"
        }
      ]
    },
    {
      "metadata": {
        "_uuid": "1ce1b2d057b965855fa0734c26d26bbbfe92e3a9"
      },
      "cell_type": "markdown",
      "source": "### Woah that's a lot of features... Let's see how does our dataset look now.. "
    },
    {
      "metadata": {
        "trusted": true,
        "_uuid": "93da790cd96e9a497106debb54332929f183bd3e"
      },
      "cell_type": "code",
      "source": "data.head()",
      "execution_count": 127,
      "outputs": [
        {
          "output_type": "execute_result",
          "execution_count": 127,
          "data": {
            "text/plain": "   Year released         ...           Length of the movie\n0           1994         ...                           142\n1           1972         ...                           175\n2           1974         ...                           202\n3           2008         ...                           152\n4           1957         ...                            96\n\n[5 rows x 925 columns]",
            "text/html": "<div>\n<style scoped>\n    .dataframe tbody tr th:only-of-type {\n        vertical-align: middle;\n    }\n\n    .dataframe tbody tr th {\n        vertical-align: top;\n    }\n\n    .dataframe thead th {\n        text-align: right;\n    }\n</style>\n<table border=\"1\" class=\"dataframe\">\n  <thead>\n    <tr style=\"text-align: right;\">\n      <th></th>\n      <th>Year released</th>\n      <th>IMDB rating</th>\n      <th>Number of reviewers</th>\n      <th>Budget</th>\n      <th>Gross USA</th>\n      <th>Cumulative worlwide Gross</th>\n      <th>Censor board rating_2h</th>\n      <th>Censor board rating_A</th>\n      <th>Censor board rating_G</th>\n      <th>Censor board rating_GP</th>\n      <th>Censor board rating_Not Rated</th>\n      <th>Censor board rating_PG</th>\n      <th>Censor board rating_PG-13</th>\n      <th>Censor board rating_Passed</th>\n      <th>Censor board rating_R</th>\n      <th>Censor board rating_U</th>\n      <th>Censor board rating_UA</th>\n      <th>Genre 1_Action</th>\n      <th>Genre 1_Adventure</th>\n      <th>Genre 1_Animation</th>\n      <th>Genre 1_Biography</th>\n      <th>Genre 1_Comedy</th>\n      <th>Genre 1_Crime</th>\n      <th>Genre 1_Drama</th>\n      <th>Genre 1_Film-Noir</th>\n      <th>Genre 1_Horror</th>\n      <th>Genre 1_Mystery</th>\n      <th>Genre 1_Sci-Fi</th>\n      <th>Genre 1_Western</th>\n      <th>Genre 2_Action</th>\n      <th>Genre 2_Adventure</th>\n      <th>Genre 2_Biography</th>\n      <th>Genre 2_Comedy</th>\n      <th>Genre 2_Crime</th>\n      <th>Genre 2_Drama</th>\n      <th>Genre 2_Family</th>\n      <th>Genre 2_Fantasy</th>\n      <th>Genre 2_Film-Noir</th>\n      <th>Genre 2_History</th>\n      <th>Genre 2_Horror</th>\n      <th>...</th>\n      <th>Production company_Red Granite Pictures</th>\n      <th>Production company_Regency Enterprises</th>\n      <th>Production company_Road Movies Filmproduktion</th>\n      <th>Production company_Roxlom Films Inc.</th>\n      <th>Production company_Selznick International Pictures</th>\n      <th>Production company_Shamley Productions</th>\n      <th>Production company_Shinchosha Company</th>\n      <th>Production company_Shôchiku Eiga</th>\n      <th>Production company_Société générale des films</th>\n      <th>Production company_Sony Pictures Entertainment (SPE)</th>\n      <th>Production company_Stage 6 Films</th>\n      <th>Production company_Strong Heart/Demme Production</th>\n      <th>Production company_Summit Entertainment</th>\n      <th>Production company_Svensk Filmindustri (SF)</th>\n      <th>Production company_The Directors Company</th>\n      <th>Production company_The Ladd Company</th>\n      <th>Production company_The Mirisch Company</th>\n      <th>Production company_The Mirisch Corporation</th>\n      <th>Production company_The Samuel Goldwyn Company</th>\n      <th>Production company_The Weinstein Company</th>\n      <th>Production company_Toho Company</th>\n      <th>Production company_Tokuma Japan Communications</th>\n      <th>Production company_Tokuma Shoten</th>\n      <th>Production company_Tornasol Films</th>\n      <th>Production company_Touchstone Pictures</th>\n      <th>Production company_Twentieth Century Fox</th>\n      <th>Production company_United Artists</th>\n      <th>Production company_Universal International Pictures (UI)</th>\n      <th>Production company_Universal Pictures</th>\n      <th>Production company_Universum Film (UFA)</th>\n      <th>Production company_Vinod Chopra Productions</th>\n      <th>Production company_Walt Disney Pictures</th>\n      <th>Production company_Warner Bros.</th>\n      <th>Production company_Warner Bros. Pictures</th>\n      <th>Production company_Warner Independent Pictures (WIP)</th>\n      <th>Production company_Wiedemann &amp; Berg Filmproduktion</th>\n      <th>Production company_Zanuck/Brown Productions</th>\n      <th>Production company_Zoetrope Studios</th>\n      <th>Production company_micro_scope</th>\n      <th>Length of the movie</th>\n    </tr>\n  </thead>\n  <tbody>\n    <tr>\n      <th>0</th>\n      <td>1994</td>\n      <td>9.3</td>\n      <td>2040670</td>\n      <td>25000000.0</td>\n      <td>28341469.0</td>\n      <td>58500000.0</td>\n      <td>0</td>\n      <td>1</td>\n      <td>0</td>\n      <td>0</td>\n      <td>0</td>\n      <td>0</td>\n      <td>0</td>\n      <td>0</td>\n      <td>0</td>\n      <td>0</td>\n      <td>0</td>\n      <td>0</td>\n      <td>0</td>\n      <td>0</td>\n      <td>0</td>\n      <td>0</td>\n      <td>0</td>\n      <td>1</td>\n      <td>0</td>\n      <td>0</td>\n      <td>0</td>\n      <td>0</td>\n      <td>0</td>\n      <td>0</td>\n      <td>0</td>\n      <td>0</td>\n      <td>0</td>\n      <td>0</td>\n      <td>0</td>\n      <td>0</td>\n      <td>0</td>\n      <td>0</td>\n      <td>0</td>\n      <td>0</td>\n      <td>...</td>\n      <td>0</td>\n      <td>0</td>\n      <td>0</td>\n      <td>0</td>\n      <td>0</td>\n      <td>0</td>\n      <td>0</td>\n      <td>0</td>\n      <td>0</td>\n      <td>0</td>\n      <td>0</td>\n      <td>0</td>\n      <td>0</td>\n      <td>0</td>\n      <td>0</td>\n      <td>0</td>\n      <td>0</td>\n      <td>0</td>\n      <td>0</td>\n      <td>0</td>\n      <td>0</td>\n      <td>0</td>\n      <td>0</td>\n      <td>0</td>\n      <td>0</td>\n      <td>0</td>\n      <td>0</td>\n      <td>0</td>\n      <td>0</td>\n      <td>0</td>\n      <td>0</td>\n      <td>0</td>\n      <td>0</td>\n      <td>0</td>\n      <td>0</td>\n      <td>0</td>\n      <td>0</td>\n      <td>0</td>\n      <td>0</td>\n      <td>142</td>\n    </tr>\n    <tr>\n      <th>1</th>\n      <td>1972</td>\n      <td>9.2</td>\n      <td>1399614</td>\n      <td>6000000.0</td>\n      <td>13496641.0</td>\n      <td>245066411.0</td>\n      <td>0</td>\n      <td>1</td>\n      <td>0</td>\n      <td>0</td>\n      <td>0</td>\n      <td>0</td>\n      <td>0</td>\n      <td>0</td>\n      <td>0</td>\n      <td>0</td>\n      <td>0</td>\n      <td>0</td>\n      <td>0</td>\n      <td>0</td>\n      <td>0</td>\n      <td>0</td>\n      <td>1</td>\n      <td>0</td>\n      <td>0</td>\n      <td>0</td>\n      <td>0</td>\n      <td>0</td>\n      <td>0</td>\n      <td>0</td>\n      <td>0</td>\n      <td>0</td>\n      <td>0</td>\n      <td>0</td>\n      <td>1</td>\n      <td>0</td>\n      <td>0</td>\n      <td>0</td>\n      <td>0</td>\n      <td>0</td>\n      <td>...</td>\n      <td>0</td>\n      <td>0</td>\n      <td>0</td>\n      <td>0</td>\n      <td>0</td>\n      <td>0</td>\n      <td>0</td>\n      <td>0</td>\n      <td>0</td>\n      <td>0</td>\n      <td>0</td>\n      <td>0</td>\n      <td>0</td>\n      <td>0</td>\n      <td>0</td>\n      <td>0</td>\n      <td>0</td>\n      <td>0</td>\n      <td>0</td>\n      <td>0</td>\n      <td>0</td>\n      <td>0</td>\n      <td>0</td>\n      <td>0</td>\n      <td>0</td>\n      <td>0</td>\n      <td>0</td>\n      <td>0</td>\n      <td>0</td>\n      <td>0</td>\n      <td>0</td>\n      <td>0</td>\n      <td>0</td>\n      <td>0</td>\n      <td>0</td>\n      <td>0</td>\n      <td>0</td>\n      <td>0</td>\n      <td>0</td>\n      <td>175</td>\n    </tr>\n    <tr>\n      <th>2</th>\n      <td>1974</td>\n      <td>9.0</td>\n      <td>970207</td>\n      <td>13000000.0</td>\n      <td>57300000.0</td>\n      <td>NaN</td>\n      <td>0</td>\n      <td>0</td>\n      <td>0</td>\n      <td>0</td>\n      <td>0</td>\n      <td>0</td>\n      <td>0</td>\n      <td>0</td>\n      <td>1</td>\n      <td>0</td>\n      <td>0</td>\n      <td>0</td>\n      <td>0</td>\n      <td>0</td>\n      <td>0</td>\n      <td>0</td>\n      <td>1</td>\n      <td>0</td>\n      <td>0</td>\n      <td>0</td>\n      <td>0</td>\n      <td>0</td>\n      <td>0</td>\n      <td>0</td>\n      <td>0</td>\n      <td>0</td>\n      <td>0</td>\n      <td>0</td>\n      <td>1</td>\n      <td>0</td>\n      <td>0</td>\n      <td>0</td>\n      <td>0</td>\n      <td>0</td>\n      <td>...</td>\n      <td>0</td>\n      <td>0</td>\n      <td>0</td>\n      <td>0</td>\n      <td>0</td>\n      <td>0</td>\n      <td>0</td>\n      <td>0</td>\n      <td>0</td>\n      <td>0</td>\n      <td>0</td>\n      <td>0</td>\n      <td>0</td>\n      <td>0</td>\n      <td>0</td>\n      <td>0</td>\n      <td>0</td>\n      <td>0</td>\n      <td>0</td>\n      <td>0</td>\n      <td>0</td>\n      <td>0</td>\n      <td>0</td>\n      <td>0</td>\n      <td>0</td>\n      <td>0</td>\n      <td>0</td>\n      <td>0</td>\n      <td>0</td>\n      <td>0</td>\n      <td>0</td>\n      <td>0</td>\n      <td>0</td>\n      <td>0</td>\n      <td>0</td>\n      <td>0</td>\n      <td>0</td>\n      <td>0</td>\n      <td>0</td>\n      <td>202</td>\n    </tr>\n    <tr>\n      <th>3</th>\n      <td>2008</td>\n      <td>9.0</td>\n      <td>2008344</td>\n      <td>185000000.0</td>\n      <td>53485844.0</td>\n      <td>100455844.0</td>\n      <td>0</td>\n      <td>0</td>\n      <td>0</td>\n      <td>0</td>\n      <td>0</td>\n      <td>0</td>\n      <td>0</td>\n      <td>0</td>\n      <td>0</td>\n      <td>0</td>\n      <td>1</td>\n      <td>1</td>\n      <td>0</td>\n      <td>0</td>\n      <td>0</td>\n      <td>0</td>\n      <td>0</td>\n      <td>0</td>\n      <td>0</td>\n      <td>0</td>\n      <td>0</td>\n      <td>0</td>\n      <td>0</td>\n      <td>0</td>\n      <td>0</td>\n      <td>0</td>\n      <td>0</td>\n      <td>1</td>\n      <td>0</td>\n      <td>0</td>\n      <td>0</td>\n      <td>0</td>\n      <td>0</td>\n      <td>0</td>\n      <td>...</td>\n      <td>0</td>\n      <td>0</td>\n      <td>0</td>\n      <td>0</td>\n      <td>0</td>\n      <td>0</td>\n      <td>0</td>\n      <td>0</td>\n      <td>0</td>\n      <td>0</td>\n      <td>0</td>\n      <td>0</td>\n      <td>0</td>\n      <td>0</td>\n      <td>0</td>\n      <td>0</td>\n      <td>0</td>\n      <td>0</td>\n      <td>0</td>\n      <td>0</td>\n      <td>0</td>\n      <td>0</td>\n      <td>0</td>\n      <td>0</td>\n      <td>0</td>\n      <td>0</td>\n      <td>0</td>\n      <td>0</td>\n      <td>0</td>\n      <td>0</td>\n      <td>0</td>\n      <td>0</td>\n      <td>1</td>\n      <td>0</td>\n      <td>0</td>\n      <td>0</td>\n      <td>0</td>\n      <td>0</td>\n      <td>0</td>\n      <td>152</td>\n    </tr>\n    <tr>\n      <th>4</th>\n      <td>1957</td>\n      <td>8.9</td>\n      <td>574484</td>\n      <td>350000.0</td>\n      <td>4360000.0</td>\n      <td>NaN</td>\n      <td>0</td>\n      <td>0</td>\n      <td>0</td>\n      <td>0</td>\n      <td>1</td>\n      <td>0</td>\n      <td>0</td>\n      <td>0</td>\n      <td>0</td>\n      <td>0</td>\n      <td>0</td>\n      <td>0</td>\n      <td>0</td>\n      <td>0</td>\n      <td>0</td>\n      <td>0</td>\n      <td>0</td>\n      <td>1</td>\n      <td>0</td>\n      <td>0</td>\n      <td>0</td>\n      <td>0</td>\n      <td>0</td>\n      <td>0</td>\n      <td>0</td>\n      <td>0</td>\n      <td>0</td>\n      <td>0</td>\n      <td>0</td>\n      <td>0</td>\n      <td>0</td>\n      <td>0</td>\n      <td>0</td>\n      <td>0</td>\n      <td>...</td>\n      <td>0</td>\n      <td>0</td>\n      <td>0</td>\n      <td>0</td>\n      <td>0</td>\n      <td>0</td>\n      <td>0</td>\n      <td>0</td>\n      <td>0</td>\n      <td>0</td>\n      <td>0</td>\n      <td>0</td>\n      <td>0</td>\n      <td>0</td>\n      <td>0</td>\n      <td>0</td>\n      <td>0</td>\n      <td>0</td>\n      <td>0</td>\n      <td>0</td>\n      <td>0</td>\n      <td>0</td>\n      <td>0</td>\n      <td>0</td>\n      <td>0</td>\n      <td>0</td>\n      <td>0</td>\n      <td>0</td>\n      <td>0</td>\n      <td>0</td>\n      <td>0</td>\n      <td>0</td>\n      <td>0</td>\n      <td>0</td>\n      <td>0</td>\n      <td>0</td>\n      <td>0</td>\n      <td>0</td>\n      <td>0</td>\n      <td>96</td>\n    </tr>\n  </tbody>\n</table>\n</div>"
          },
          "metadata": {}
        }
      ]
    },
    {
      "metadata": {
        "_uuid": "c1f94a1c442c81b7c39afff21468772cbf4a6859"
      },
      "cell_type": "markdown",
      "source": "### From above representation we can see that there are some missing values in our dataset so let's see how much of our data is actually missing."
    },
    {
      "metadata": {
        "trusted": true,
        "_uuid": "ba0a173be43fccafc13279a72e20766f662ad9b5"
      },
      "cell_type": "code",
      "source": "mis_val = data.isnull().sum()\nmis_val_percent = 100 * data.isnull().sum() / len(data)\nmis_val_table = pd.concat([mis_val, mis_val_percent], axis=1)\nmis_val_table_ren_columns = mis_val_table.rename(columns = {0 : 'Missing Values', 1 : '% of Total Values'})\nmis_val_table_ren_columns = mis_val_table_ren_columns[\nmis_val_table_ren_columns.iloc[:,1] != 0].sort_values('% of Total Values', ascending=False).round(1)\nprint ('Out of {} columns {} have missing values'.format(data.shape[1], mis_val_table_ren_columns.shape[0]))\nmis_val_table_ren_columns.head()",
      "execution_count": 128,
      "outputs": [
        {
          "output_type": "stream",
          "text": "Out of 925 columns 3 have missing values\n",
          "name": "stdout"
        },
        {
          "output_type": "execute_result",
          "execution_count": 128,
          "data": {
            "text/plain": "                           Missing Values  % of Total Values\nCumulative worlwide Gross              97               38.8\nGross USA                              30               12.0\nBudget                                 28               11.2",
            "text/html": "<div>\n<style scoped>\n    .dataframe tbody tr th:only-of-type {\n        vertical-align: middle;\n    }\n\n    .dataframe tbody tr th {\n        vertical-align: top;\n    }\n\n    .dataframe thead th {\n        text-align: right;\n    }\n</style>\n<table border=\"1\" class=\"dataframe\">\n  <thead>\n    <tr style=\"text-align: right;\">\n      <th></th>\n      <th>Missing Values</th>\n      <th>% of Total Values</th>\n    </tr>\n  </thead>\n  <tbody>\n    <tr>\n      <th>Cumulative worlwide Gross</th>\n      <td>97</td>\n      <td>38.8</td>\n    </tr>\n    <tr>\n      <th>Gross USA</th>\n      <td>30</td>\n      <td>12.0</td>\n    </tr>\n    <tr>\n      <th>Budget</th>\n      <td>28</td>\n      <td>11.2</td>\n    </tr>\n  </tbody>\n</table>\n</div>"
          },
          "metadata": {}
        }
      ]
    },
    {
      "metadata": {
        "_uuid": "22b27bc1e8b1bb4e9c0ca64783962752e06937a1"
      },
      "cell_type": "markdown",
      "source": "### Thank god only three columns are missing data. \n\n* 'Cumulative worlwide Gross' has 97 missing values which is almost 40% of the entire dataset. So we can't replace them with mean values so I'm gonna get rid of this troublesome column now.\n\n* Gross USA and Budget are missing ~12% of the data so if we replace them with mean of the column then it might not affect the final accuracy all that much."
    },
    {
      "metadata": {
        "trusted": true,
        "_uuid": "9ac5d5227ab53e3354c1ece890021f86ee20ebd0"
      },
      "cell_type": "code",
      "source": "data = data.drop(['Cumulative worlwide Gross'], axis=1)\ndata.fillna(data.mean(), inplace=True)",
      "execution_count": 129,
      "outputs": []
    },
    {
      "metadata": {
        "_uuid": "759c003c5cd85c0a8fa6e016ae7de1bd64247a50"
      },
      "cell_type": "markdown",
      "source": "### Correlations\n\nIt's always beneficial to check whether the features are affecting the target variable or not. "
    },
    {
      "metadata": {
        "trusted": true,
        "_uuid": "b5d5d5f1fa0d8a549bcf015104c0118e928ef919"
      },
      "cell_type": "code",
      "source": "correlations = data.corr()['IMDB rating'].sort_values()\n\nprint('Most Positive Correlations:\\n', correlations.tail(20))\nprint('\\nMost Negative Correlations:\\n', correlations.head(20))",
      "execution_count": 132,
      "outputs": [
        {
          "output_type": "stream",
          "text": "Most Positive Correlations:\n Writer 2_Christopher Nolan            0.178396\nWriter 1_Jonathan Nolan               0.178396\nWriter 2_Mario Puzo                   0.192621\nWriter 1_Francis Ford Coppola         0.192621\nDirector Name_Christopher Nolan       0.208279\nLength of the movie                   0.212761\nWriter 2_Francis Ford Coppola         0.214028\nDirector Name_Frank Darabont          0.233671\nWriter 2_Frank Darabont               0.233671\nProduction company_New Line Cinema    0.234180\nDirector Name_Peter Jackson           0.238554\nWriter 1_J.R.R. Tolkien               0.238554\nWriter 2_Fran Walsh                   0.238554\nStar 1_Elijah Wood                    0.238554\nWriter 1_Mario Puzo                   0.248068\nCensor board rating_A                 0.258102\nStar 1_Tim Robbins                    0.275791\nDirector Name_Francis Ford Coppola    0.286766\nNumber of reviewers                   0.574138\nIMDB rating                           1.000000\nName: IMDB rating, dtype: float64\n\nMost Negative Correlations:\n Censor board rating_R                      -0.135808\nCensor board rating_Not Rated              -0.127391\nProduction company_Hemdale                 -0.100257\nGenre 3_History                            -0.089258\nProduction company_Twentieth Century Fox   -0.088717\nWriter 1_Ingmar Bergman                    -0.086576\nDirector Name_Ingmar Bergman               -0.086576\nDirector Name_Gore Verbinski               -0.084612\nWriter 1_Ted Elliott                       -0.084612\nWriter 2_Terry Rossio                      -0.084612\nStar 1_Johnny Depp                         -0.084612\nWriter 2_Carl Gottlieb                     -0.084612\nWriter 1_Peter Benchley                    -0.084612\nStar 1_Roy Scheider                        -0.084612\nWriter 1_Danny Rubin                       -0.084612\nWriter 2_Harold Ramis                      -0.084612\nStar 1_Judy Garland                        -0.084612\nWriter 1_Noel Langley                      -0.084612\nStar 1_Bill Murray                         -0.084612\nWriter 2_Florence Ryerson                  -0.084612\nName: IMDB rating, dtype: float64\n",
          "name": "stdout"
        }
      ]
    },
    {
      "metadata": {
        "_uuid": "f871c88d5c95aa5de36aea335ac38b6a0f8fd2e9"
      },
      "cell_type": "markdown",
      "source": "### Now that our dataset is ready to use, We can split our dataset into train and test datasets."
    },
    {
      "metadata": {
        "trusted": true,
        "_uuid": "1c8708bd740d42682e7ba5504484b7a080b9ddf4"
      },
      "cell_type": "code",
      "source": "Y = np.array(data['IMDB rating'])\nX = np.array(data.drop(['IMDB rating'], axis=1))\nX_train, X_test, Y_train, Y_test = train_test_split(X, Y, test_size=0.2, random_state=42)\nprint(\"X_train shape: {}\".format(X_train.shape))\nprint(\"X_test shape: {}\".format(X_test.shape))\nprint(\"Y_train shape: {}\".format(Y_train.shape))\nprint(\"Y_test shape: {}\".format(Y_test.shape))",
      "execution_count": 136,
      "outputs": [
        {
          "output_type": "stream",
          "text": "X_train shape: (200, 923)\nX_test shape: (50, 923)\nY_train shape: (200,)\nY_test shape: (50,)\n",
          "name": "stdout"
        }
      ]
    },
    {
      "metadata": {
        "_uuid": "97d6595fa5ff4b45f5cb3b6503e3fadda9ae48c8"
      },
      "cell_type": "markdown",
      "source": "## 4 - Model testing\n\n### There are a bunch of ready to use Linear Regression models available in Scikit-learn's library so for this assignment I'm gonna use these three models to check which one works best for this dataset"
    },
    {
      "metadata": {
        "_uuid": "f799da4d817985d805fbe501f76a48ae0abc5c82"
      },
      "cell_type": "markdown",
      "source": "### 1 - [Linear Regression Model](https://scikit-learn.org/stable/modules/generated/sklearn.linear_model.LinearRegression.html)"
    },
    {
      "metadata": {
        "trusted": true,
        "_uuid": "9bc4a73b5e02f4bb4e978343ec755fb869461b27"
      },
      "cell_type": "code",
      "source": "reg = linear_model.LinearRegression()\nreg.fit(X_train, Y_train)\nY_pred = reg.predict(X_test)\nMAPE = np.mean(np.abs((Y_test - Y_pred) / Y_test)) * 100\nprint('MAPE for Linear Regression model is : {}'.format(MAPE))",
      "execution_count": 151,
      "outputs": [
        {
          "output_type": "stream",
          "text": "MAPE for Linear Regression model is : 1.6661177167215406\n",
          "name": "stdout"
        }
      ]
    },
    {
      "metadata": {
        "_uuid": "00be452907a5eeb64d6867cf4a6d1fcb531739ea"
      },
      "cell_type": "markdown",
      "source": "### 2 - [Ridge Model](https://scikit-learn.org/stable/modules/generated/sklearn.linear_model.Ridge.html)"
    },
    {
      "metadata": {
        "trusted": true,
        "_uuid": "f9fe888dd5e6f604a45479ad15050186cba4066a"
      },
      "cell_type": "code",
      "source": "reg = linear_model.Ridge()\nreg.fit(X_train, Y_train)\nY_pred = reg.predict(X_test)\nMAPE = np.mean(np.abs((Y_test - Y_pred) / Y_test)) * 100\nprint('MAPE for Ridge Regression model is : {}'.format(MAPE))",
      "execution_count": 152,
      "outputs": [
        {
          "output_type": "stream",
          "text": "MAPE for Ridge Regression model is : 2.2427469580514248\n",
          "name": "stdout"
        },
        {
          "output_type": "stream",
          "text": "/opt/conda/lib/python3.6/site-packages/sklearn/linear_model/ridge.py:167: UserWarning: Singular matrix in solving dual problem. Using least-squares solution instead.\n  warnings.warn(\"Singular matrix in solving dual problem. Using \"\n",
          "name": "stderr"
        }
      ]
    },
    {
      "metadata": {
        "_uuid": "9b0271a66865ebed9b2c50beca1504788995a2ae"
      },
      "cell_type": "markdown",
      "source": "### 3 - [Lasso Model](https://scikit-learn.org/stable/modules/generated/sklearn.linear_model.Lasso.html)"
    },
    {
      "metadata": {
        "trusted": true,
        "_uuid": "e573fc86b5ff147ba6815e1bc93609514bead39b"
      },
      "cell_type": "code",
      "source": "reg = linear_model.Lasso()\nreg.fit(X_train, Y_train)\nY_pred = reg.predict(X_test)\nMAPE = np.mean(np.abs((Y_test - Y_pred) / Y_test)) * 100\nprint('MAPE for Lasso Regression model is : {}'.format(MAPE))",
      "execution_count": 153,
      "outputs": [
        {
          "output_type": "stream",
          "text": "MAPE for Lasso Regression model is : 1.8281196368609514\n",
          "name": "stdout"
        }
      ]
    },
    {
      "metadata": {
        "_uuid": "fe250e93209df40adf14404ade0fdf023eb39c56"
      },
      "cell_type": "markdown",
      "source": "## 5 - Conclusion\n\nfrom above MAPE values we can conclude that Linear Regression Model gives us the best results for this dataset."
    },
    {
      "metadata": {
        "trusted": true,
        "_uuid": "4b3e12e7f0bf775e7fc65f9c7cc45576ae740da0"
      },
      "cell_type": "code",
      "source": "",
      "execution_count": null,
      "outputs": []
    }
  ],
  "metadata": {
    "kernelspec": {
      "display_name": "Python 3",
      "language": "python",
      "name": "python3"
    },
    "language_info": {
      "name": "python",
      "version": "3.6.6",
      "mimetype": "text/x-python",
      "codemirror_mode": {
        "name": "ipython",
        "version": 3
      },
      "pygments_lexer": "ipython3",
      "nbconvert_exporter": "python",
      "file_extension": ".py"
    }
  },
  "nbformat": 4,
  "nbformat_minor": 1
}